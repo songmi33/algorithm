{
 "cells": [
  {
   "cell_type": "markdown",
   "metadata": {},
   "source": [
    "# Sorting\n",
    "- 참고\n",
    "https://github.com/TheAlgorithms/Python/blob/master/sorts/quick_sort.py"
   ]
  },
  {
   "cell_type": "markdown",
   "metadata": {},
   "source": [
    "#### 버블정렬\n",
    ": 거품처럼 하나씩 비교하여 정렬하는 알고리즘 <br>\n",
    ": in-place 알고리즘 <br>\n",
    ": stable한 알고리즘(중복 데이터의 경우 순서 유지)\n",
    "- worst case: O(n^2) 정렬이 하나도 안되어있는 경우\n",
    "- average case: O(n^2)\n",
    "- best case: O(n) 정렬되어 있는 경우\n",
    "- 장점: in-place 알고리즘이기 때문에 메모리 절약 가능 \n",
    "- 단점: 자료의 개수가 많아지면 성능 저하"
   ]
  },
  {
   "cell_type": "code",
   "execution_count": 45,
   "metadata": {},
   "outputs": [],
   "source": [
    "def bubbleSort(array):\n",
    "    arrLen = len(array)\n",
    "    for i in range(arrLen-1):\n",
    "        for j in range(arrLen-1-i):\n",
    "               if(array[j] > array[j+1]):\n",
    "                   array[j], array[j+1] = array[j+1], array[j]\n",
    "    return array;"
   ]
  },
  {
   "cell_type": "code",
   "execution_count": 46,
   "metadata": {},
   "outputs": [
    {
     "name": "stdout",
     "output_type": "stream",
     "text": [
      "[1, 2, 3, 5]\n"
     ]
    }
   ],
   "source": [
    "arr = [2,3,5,1]\n",
    "arr = bubbleSort(arr)\n",
    "print(arr)"
   ]
  },
  {
   "cell_type": "markdown",
   "metadata": {},
   "source": [
    "#### 삽입 정렬\n",
    ": 왼쪽에서부터 오른쪽으로 이동하면서 정렬해나가는 알고리즘 <br>\n",
    ": 항상 두번째 요소를 왼쪽 요소와 비교하여 정렬<br>\n",
    "- worst case O(n^2): 정렬이 하나도 안되어있는 경우\n",
    "- average case O(n^2)\n",
    "- best case O(n): 정렬되어 있는 경우\n",
    "- 장점: in-place 알고리즘으로 메모리 절약, stable 알고리즘\n",
    "- 단점: 자료의 개수가 많아지면 성능 저하"
   ]
  },
  {
   "cell_type": "code",
   "execution_count": 62,
   "metadata": {},
   "outputs": [],
   "source": [
    "def insertSort(arr):\n",
    "    arrLen = len(arr)\n",
    "    for i in range(1,arrLen):\n",
    "        thisData = arr[i]\n",
    "        properIdx = 0\n",
    "        for j in range(i-1,-1,-1):\n",
    "            if arr[j] > thisData:\n",
    "                arr[j+1] = arr[j]\n",
    "            else:\n",
    "                properIdx = j+1\n",
    "                break\n",
    "        arr[properIdx] = thisData\n",
    "    return arr"
   ]
  },
  {
   "cell_type": "code",
   "execution_count": 63,
   "metadata": {},
   "outputs": [
    {
     "name": "stdout",
     "output_type": "stream",
     "text": [
      "[1, 2, 3, 5]\n"
     ]
    }
   ],
   "source": [
    "arr = [2,3,5,1]\n",
    "arr = insertSort(arr)\n",
    "print(arr)"
   ]
  },
  {
   "cell_type": "markdown",
   "metadata": {},
   "source": [
    "#### 선택정렬\n",
    "① 데이터에서 최소값 탐색<br>\n",
    "② 그 값을 맨 앞에 위치한 값과 교환<br>\n",
    "③ 그 값을 제외한 값 중 최소값 탐색<br>\n",
    "④ 그 값을 두번째 위치한 값과 교환<br>\n",
    "⑤ 반복\n",
    "- worst case O(n^2): 정렬이 하나도 되어있지 않는 경우\n",
    "- average case O(n^2)\n",
    "- best case O(n^2): 정렬이 모두 되있는 경우\n",
    "- 장점: in-place 알고리즘이기 때문에 메모리 절약 가능\n",
    "- 단점: 최선의 경우에도 각 단계에서 최소값을 모두 알아야 하기 때문에 최악의 경우와 동일한 시간복잡도를 가짐(unstable한 알고리즘)"
   ]
  },
  {
   "cell_type": "code",
   "execution_count": 79,
   "metadata": {},
   "outputs": [],
   "source": [
    "def selSort(arr):\n",
    "    arrLen = len(arr)\n",
    "    minNum = 0\n",
    "    \n",
    "    for i in range(arrLen):\n",
    "        min = i\n",
    "        \n",
    "        for j in range(i, arrLen):\n",
    "            if arr[min] > arr[j]:\n",
    "                min = j\n",
    "                \n",
    "        arr[i], arr[min] = arr[min], arr[i]\n",
    "        \n",
    "    return arr    \n",
    "        "
   ]
  },
  {
   "cell_type": "code",
   "execution_count": 80,
   "metadata": {},
   "outputs": [
    {
     "name": "stdout",
     "output_type": "stream",
     "text": [
      "[1, 2, 3, 4, 5]\n"
     ]
    }
   ],
   "source": [
    "arr = [5,4,3,2,1]\n",
    "arr = insertSort(arr)\n",
    "print(arr)"
   ]
  },
  {
   "cell_type": "markdown",
   "metadata": {},
   "source": [
    "#### 퀵 정렬\n",
    "① 배열 중 하나의 값을 피봇으로 선정<br>\n",
    "② 피봇보다 작은 값들로 구성된 배열과 큰 값으로 구성된 배열로 분할<br>\n",
    "③ 배열의 크기가 0이나 1이 될 때까지 이를 재귀적으로 반복<br>\n",
    "- worst case: O(n^2)\n",
    "- average case: O(nlogn)\n",
    "- best case: O(nlogn)\n",
    "- 장점: 다른 O(nlogn) 알고리즘보다 빠르게 동작\n",
    "- 단점: 피봇에 따라 시간복잡도가 크게 달라진다.(unstable)"
   ]
  },
  {
   "cell_type": "code",
   "execution_count": 82,
   "metadata": {},
   "outputs": [],
   "source": [
    "def quickSort(arr):\n",
    "    # 배열의 값이 1개보다 작아지면 재귀 중단\n",
    "    if(arr < 1): return arr\n",
    "    \n",
    "    # 피봇값을 갱신하고 more과 less를 초기화\n",
    "    pivot = arr.pop()\n",
    "    more = []\n",
    "    less = []\n",
    "    \n",
    "    for element in arr:\n",
    "        (more if element > piovt else less).append(element)\n",
    "        \n",
    "    return quickSort(less) + [pivot] + quickSort(more)\n",
    "    "
   ]
  },
  {
   "cell_type": "code",
   "execution_count": 84,
   "metadata": {},
   "outputs": [
    {
     "name": "stdout",
     "output_type": "stream",
     "text": [
      "[1, 1, 2, 2, 5, 5, 7, 9]\n"
     ]
    }
   ],
   "source": [
    "arr = [7,2,5,1,9,1,5,2]\n",
    "arr = insertSort(arr)\n",
    "print(arr)"
   ]
  },
  {
   "cell_type": "markdown",
   "metadata": {},
   "source": [
    "#### 힙 정렬\n",
    "① 데이터를 잘게 쪼갬<br>\n",
    "② 둘씩 크기 비교<br>\n",
    "③ 쪼갠 데이터를 합침<br>\n",
    "④ 더이상 합칠 데이터가 없을 때까지 반복<br>\n",
    "- worst case: O(nlogn)\n",
    "- average case: O(nlogn)\n",
    "- best case: O(nlogn)"
   ]
  },
  {
   "cell_type": "code",
   "execution_count": 1,
   "metadata": {},
   "outputs": [],
   "source": [
    "# unsorted: 정렬이 되지 않은 배열, index: 인덱스, heap_size: 크기\n",
    "def heapify(unsorted, index, heap_size):\n",
    "    largest = index\n",
    "    \n",
    "    left_index = 2 * index\n",
    "    right_index = 2 * index + 1\n",
    "    \n",
    "#  자식노드가 범위안에 드는지 확인, 자식노드가 부모노드보다 큰지 확인\n",
    "#  자식노드가 부모노드보다 크다면 인덱스 스위치\n",
    "\n",
    "    if left_index < heap_size and unsorted[left_index] > unsorted[largest]:\n",
    "        largest = left_index\n",
    "    if right_index < heap_size and unsorted[right_index] > unsorted[largest]:\n",
    "        largest = right_index\n",
    "    \n",
    "#  부모노드의 인덱스 값이 바뀌면 자식노드의 값과 스위치\n",
    "    if largest != index:\n",
    "        unsorted[largest], unsorted[index] = unsorted[index], unsorted[largest]\n",
    "        # 재귀함수\n",
    "        heapify(unsorted, largest, heap_size)\n"
   ]
  },
  {
   "cell_type": "code",
   "execution_count": 5,
   "metadata": {},
   "outputs": [],
   "source": [
    "def heap_sort(unsorted):\n",
    "    # 리스트의 전체 길이를 저장\n",
    "    n = len(unsorted)\n",
    "    \n",
    "    # 이진트리를 구하기 때문에 전체 크기의 절반 만큼 반복\n",
    "    # for문을 거꾸로 돌아감\n",
    "    # 이진트리의 가장 아래부터 heapify를 실행하여 힙 구조 형성\n",
    "    \n",
    "    for i in range(n//2, -1, -1 ):\n",
    "        heapify(unsorted, i, n)\n",
    "        \n",
    "    # 마지막 노드부터 루트노드를 기준으로 값을 스위치하면서 정렬\n",
    "    for i in range(n-1, 0, -1):\n",
    "        unsorted[0], unsorted[i] = unsorted[i], unsorted[0]\n",
    "        heapify(unsorted, 0, i)\n",
    "        \n",
    "    return unsorted"
   ]
  },
  {
   "cell_type": "code",
   "execution_count": 6,
   "metadata": {},
   "outputs": [
    {
     "data": {
      "text/plain": [
       "[1, 2, 3, 4, 7, 8, 9]"
      ]
     },
     "execution_count": 6,
     "metadata": {},
     "output_type": "execute_result"
    }
   ],
   "source": [
    "arr = [7,4,9,2,1,3,8]\n",
    "heap_sort(arr)"
   ]
  },
  {
   "cell_type": "markdown",
   "metadata": {},
   "source": [
    "#### 합병정렬\n",
    ": 분할 정복 방법(divide and conquer)<br>\n",
    ": 문제를 작은 2개의 문제로 분리하고 각각을 해결한 다음, 결과를 모아 원래의 문제 해결\n",
    ": 순환 호출을 이용하여 구현<br>\n",
    "\n",
    "① 리스트의 길이가 0 또는 1이면 이미 정렬된 것으로 본다.<br>\n",
    "② 그렇지 않은 경우 리스트를 절반으로 잘라 비슷한 크기의 리스트로 나눈다.<br>\n",
    "③ 각 부분의 리스트를 재귀적으로 합병정렬을 이용해 정렬한다.<br>\n",
    "④ 두 부분 리스트를 다시 하나의 정렬된 리스트로 합병한다.<br>\n",
    "- 단점: in-place 정렬이 아니기 때문에 임시 배열 필요<br>\n",
    "- 장점: 데이터 분포의 영향을 덜 받고, 입력 데이터에 관계 없이 정렬 시간이 O(nlogn)으로 동일<br>\n",
    "\n",
    "- worst case: O(nlogn)\n",
    "- average case: O(nlogn)\n",
    "- best case: O(nlogn)"
   ]
  },
  {
   "cell_type": "code",
   "execution_count": 20,
   "metadata": {},
   "outputs": [],
   "source": [
    "def merge(leftArr, rightArr):\n",
    "#     결합할 배열 생성\n",
    "    result = []\n",
    "    i = 0    # 왼쪽 배열에서 움직일 인덱스\n",
    "    j = 0    # 오른쪽 배열에서 움직일 인덱스\n",
    "    \n",
    "#     왼쪽 배열과 오른쪽 배열의 길이 저장\n",
    "    leftLen = len(leftArr)\n",
    "    rightLen = len(rightArr)\n",
    "    \n",
    "#     분할 정렬된 Arr의 합병\n",
    "    while((i < leftLen) and (j < rightLen)):\n",
    "        if leftArr[i] < rightArr[j]:\n",
    "            result.append(leftArr[i])\n",
    "            i += 1\n",
    "        else:\n",
    "            result.append(rightArr[j])\n",
    "            j += 1\n",
    "            \n",
    "#   만약 왼쪽 배열이 다 result에 들어가고 오른쪽 배열의 값만 남았을 경우\n",
    "    if(i >= leftLen):\n",
    "        for k in range(j,rightLen):\n",
    "            result.append(rightArr[k])\n",
    "#   만약 오른쪽 배열이 다 result에 들어가고 왼쪽 배열의 값만 남았을 경우          \n",
    "    else:\n",
    "        for k in range(i, leftLen):\n",
    "            result.append(leftArr[k])\n",
    "    \n",
    "    return result\n",
    "    \n",
    "    "
   ]
  },
  {
   "cell_type": "code",
   "execution_count": 21,
   "metadata": {},
   "outputs": [],
   "source": [
    "def mergeSort(arr):\n",
    "    if len(arr) <= 1:\n",
    "        return arr\n",
    "    \n",
    "#     주어진 배열을 절반으로 나누기 위해 인덱스 설정\n",
    "    mid = len(arr) // 2\n",
    "    leftArr = arr[:mid]\n",
    "    rightArr = arr[mid:]\n",
    "    \n",
    "#     왼쪽 오른쪽 배열을 divide\n",
    "    leftArr = mergeSort(leftArr)\n",
    "    rightArr = mergeSort(rightArr)\n",
    "    \n",
    "#     양쪽 배열을 conqure\n",
    "    return merge(leftArr, rightArr)"
   ]
  },
  {
   "cell_type": "code",
   "execution_count": 22,
   "metadata": {
    "scrolled": true
   },
   "outputs": [
    {
     "data": {
      "text/plain": [
       "[0, 1, 2, 4, 6, 8]"
      ]
     },
     "execution_count": 22,
     "metadata": {},
     "output_type": "execute_result"
    }
   ],
   "source": [
    "arr = [6,2,4,0,1,8]\n",
    "mergeSort(arr)"
   ]
  },
  {
   "cell_type": "markdown",
   "metadata": {},
   "source": [
    "#### 셸 정렬\n",
    ": 삽입 정렬을 보완한 알고리즘<br>\n",
    ": 삽입 정렬의 최대 문제점은 요소들이 삽입될 때 이웃한 위치로만 이동하는 것<br>\n",
    ": 즉, 삽입되어야 할 위치가 멀리 있다면 이동하는데 많은 시간 소요<br>\n",
    ": 삽입정렬과 다르게 셸 정렬은 전체 리스트를 한번에 정렬하지 않음<br>\n",
    "\n",
    "① 리스트를 간격에 의해 분류 (간격의 초기값 = (리스트의 원소 개수) / 2)<br>\n",
    "② 일정 간격에 의해 분류된 부분 리스트 생성<br>\n",
    "③ 각각의 부분 리스트를 삽입 정렬을 이용하여 정렬<br>\n",
    "④ 부분 리스트를 모두 정렬하면 다시 전체 리스트를 더 작은 간격에 의해 분류<br>\n",
    "⑤ 1~3 과정 반복<br>\n",
    "⑥ 부분 리스트의 간격이 1이 될 때까지 반복<br>\n",
    "\n",
    "- 단점: 간격이 잘못 설정된 경우 성능저하 초래<br>\n",
    "- 장점: 부분 리스트는 어느정도 정렬이 된 상태이기 때문에 삽입정렬보다 빠르게 수행됨<br>\n",
    "알고리즘이 간단함<br>\n",
    "\n",
    "- worst case: O(n^2)<br>\n",
    "- average case: O(n^1.5)<br>\n",
    "- worst case: O(n)<br>"
   ]
  },
  {
   "cell_type": "code",
   "execution_count": 25,
   "metadata": {},
   "outputs": [],
   "source": [
    "def shellSort(arr):\n",
    "#     배열의 길이 저장\n",
    "    n = len(arr)\n",
    "#     간격 설정\n",
    "    gap = n // 2\n",
    "    \n",
    "    while gap > 0:\n",
    "        for i in range(gap, n):\n",
    "            temp = arr[i]\n",
    "            \n",
    "#           해당 간격의 전 요소와 비교\n",
    "            j = i - gap\n",
    "#           그 전 요소가 존재하고 그 다음 요소보다 크면 자리를 바꿔주고 또 그 이전 요소 탐색 후 비교 반복 \n",
    "            while j >= 0 and arr[j] > temp:\n",
    "                arr[j + gap] = arr[j]\n",
    "                j -= gap\n",
    "#           바뀐 자리에 삽입\n",
    "            arr[j + gap] = temp\n",
    "#       간격(gap) 재설정\n",
    "        gap //= 2\n",
    "        \n",
    "    return arr"
   ]
  },
  {
   "cell_type": "code",
   "execution_count": 26,
   "metadata": {},
   "outputs": [
    {
     "data": {
      "text/plain": [
       "[0, 1, 2, 4, 6, 8]"
      ]
     },
     "execution_count": 26,
     "metadata": {},
     "output_type": "execute_result"
    }
   ],
   "source": [
    "arr = [4,2,8,1,0,6]\n",
    "shellSort(arr)"
   ]
  }
 ],
 "metadata": {
  "kernelspec": {
   "display_name": "Python 3",
   "language": "python",
   "name": "python3"
  },
  "language_info": {
   "codemirror_mode": {
    "name": "ipython",
    "version": 3
   },
   "file_extension": ".py",
   "mimetype": "text/x-python",
   "name": "python",
   "nbconvert_exporter": "python",
   "pygments_lexer": "ipython3",
   "version": "3.7.6"
  }
 },
 "nbformat": 4,
 "nbformat_minor": 4
}
